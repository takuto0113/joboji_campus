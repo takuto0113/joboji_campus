{
 "metadata": {
  "language_info": {
   "codemirror_mode": {
    "name": "ipython",
    "version": 3
   },
   "file_extension": ".py",
   "mimetype": "text/x-python",
   "name": "python",
   "nbconvert_exporter": "python",
   "pygments_lexer": "ipython3",
   "version": "3.9.1"
  },
  "orig_nbformat": 2,
  "kernelspec": {
   "name": "python391jvsc74a57bd0d35e32298873066b613699bf4d1fe8ab3732bcb4751f98916cb0504c925314c9",
   "display_name": "Python 3.9.1 64-bit ('base': conda)"
  },
  "metadata": {
   "interpreter": {
    "hash": "d35e32298873066b613699bf4d1fe8ab3732bcb4751f98916cb0504c925314c9"
   }
  }
 },
 "nbformat": 4,
 "nbformat_minor": 2,
 "cells": [
  {
   "cell_type": "code",
   "execution_count": 46,
   "metadata": {},
   "outputs": [],
   "source": [
    "#分割画像の配置\n",
    "split_list = [[3, 5, 2],\n",
    "              [1, 6, 7],\n",
    "              [9, 4, 8]]\n",
    "\n",
    "#分割画像の現在の位置を記憶する\n",
    "position = {}       #key→元画像時の配置番号 value→現在の位置[行, 列]\n",
    "line = 3            #分割画像の行の分割数\n",
    "column = 3          #分割画像の列の分割数\n",
    "for i in range(line):\n",
    "    for j in range(column):\n",
    "        position[split_list[i][j]] = [i, j]\n",
    "        num += 1\n",
    "#keyを昇順ソート\n",
    "position = sorted(position.items(), key=lambda x:x[0])\n",
    "\n",
    "#分割画像を元画像と同じ配置に戻す\n",
    "#選択\n",
    "choice = column * 2 + 1\n",
    "#交換\n",
    "\n",
    "# split_list\n",
    "# position"
   ]
  },
  {
   "cell_type": "code",
   "execution_count": null,
   "metadata": {},
   "outputs": [],
   "source": []
  }
 ]
}