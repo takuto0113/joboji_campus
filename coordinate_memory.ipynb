{
 "metadata": {
  "language_info": {
   "codemirror_mode": {
    "name": "ipython",
    "version": 3
   },
   "file_extension": ".py",
   "mimetype": "text/x-python",
   "name": "python",
   "nbconvert_exporter": "python",
   "pygments_lexer": "ipython3",
   "version": "3.9.1"
  },
  "orig_nbformat": 2,
  "kernelspec": {
   "name": "python391jvsc74a57bd0d35e32298873066b613699bf4d1fe8ab3732bcb4751f98916cb0504c925314c9",
   "display_name": "Python 3.9.1 64-bit ('base': conda)"
  },
  "metadata": {
   "interpreter": {
    "hash": "d35e32298873066b613699bf4d1fe8ab3732bcb4751f98916cb0504c925314c9"
   }
  }
 },
 "nbformat": 4,
 "nbformat_minor": 2,
 "cells": [
  {
   "cell_type": "code",
   "execution_count": 6,
   "metadata": {},
   "outputs": [],
   "source": [
    "import numpy as np"
   ]
  },
  {
   "cell_type": "code",
   "execution_count": 36,
   "metadata": {},
   "outputs": [
    {
     "output_type": "stream",
     "name": "stdout",
     "text": [
      "[[14 10  8 13]\n [12  2  3  6]\n [11  4  9  5]\n [ 1 15  7 16]]\n"
     ]
    }
   ],
   "source": [
    "split_list = np.array([[14, 10, 8, 13],\n",
    "              [12, 2, 3, 6],\n",
    "              [11, 4, 9, 5],\n",
    "              [1, 15, 7, 16]])\n",
    "print(split_list)"
   ]
  },
  {
   "cell_type": "code",
   "execution_count": 35,
   "metadata": {},
   "outputs": [
    {
     "output_type": "stream",
     "name": "stdout",
     "text": [
      "(2, 3)\n"
     ]
    }
   ],
   "source": [
    "pos = tuple(nd[0] for nd in np.where(x == 5))\n",
    "print(pos)"
   ]
  }
 ]
}