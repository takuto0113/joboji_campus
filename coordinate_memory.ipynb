{
 "metadata": {
  "language_info": {
   "codemirror_mode": {
    "name": "ipython",
    "version": 3
   },
   "file_extension": ".py",
   "mimetype": "text/x-python",
   "name": "python",
   "nbconvert_exporter": "python",
   "pygments_lexer": "ipython3",
   "version": "3.9.1"
  },
  "orig_nbformat": 2,
  "kernelspec": {
   "name": "python391jvsc74a57bd0d35e32298873066b613699bf4d1fe8ab3732bcb4751f98916cb0504c925314c9",
   "display_name": "Python 3.9.1 64-bit ('base': conda)"
  },
  "metadata": {
   "interpreter": {
    "hash": "d35e32298873066b613699bf4d1fe8ab3732bcb4751f98916cb0504c925314c9"
   }
  }
 },
 "nbformat": 4,
 "nbformat_minor": 2,
 "cells": [
  {
   "cell_type": "code",
   "execution_count": 1,
   "metadata": {},
   "outputs": [],
   "source": [
    "import numpy as np"
   ]
  },
  {
   "source": [
    "|||||\n",
    "|:--:|:--:|:--:|:--:|\n",
    "|1|2|3|4|\n",
    "|5|6|7|8|\n",
    "|9|10|11|12|\n",
    "|13|14|15|16|"
   ],
   "cell_type": "markdown",
   "metadata": {}
  },
  {
   "cell_type": "code",
   "execution_count": 85,
   "metadata": {},
   "outputs": [
    {
     "output_type": "stream",
     "name": "stdout",
     "text": [
      "[[14 10  8 13]\n [12  2  3  6]\n [11  4  9  5]\n [ 1 15  7 16]]\n"
     ]
    }
   ],
   "source": [
    "split_list = np.array([[14, 10, 8, 13],\n",
    "                       [12, 2, 3, 6],\n",
    "                       [11, 4, 9, 5],\n",
    "                       [1, 15, 7, 16]])\n",
    "print(split_list)"
   ]
  },
  {
   "cell_type": "code",
   "execution_count": 96,
   "metadata": {},
   "outputs": [
    {
     "output_type": "stream",
     "name": "stdout",
     "text": [
      "[[14 10  8 13]\n [12  2  3  6]\n [11  4  9  5]\n [ 1 15  7 16]]\n\n       ↓\n\n[[14 16 10  8]\n [12  2  3 13]\n [11  4  9  6]\n [ 1 15  7  5]]\n5\n"
     ]
    }
   ],
   "source": [
    "split_list = np.array([[14, 10, 8, 13],\n",
    "                       [12, 2, 3, 6],\n",
    "                       [11, 4, 9, 5],\n",
    "                       [1, 15, 7, 16]])\n",
    "print(split_list)\n",
    "print()\n",
    "print(\"       ↓\")\n",
    "print()\n",
    "\n",
    "exchange = 0\n",
    "\n",
    "# aim_numを狙った座標まで移動する\n",
    "def move(aim_num, choice_num, pos, exchange):\n",
    "    aim_pos = tuple(nd[0] for nd in np.where(split_list == aim_num))\n",
    "    choice_pos = tuple(nd[0] for nd in np.where(split_list == choice_num))\n",
    "    \n",
    "    if aim_pos[0] != 0 and aim_pos[0] != 3 and aim_pos[1] != 0 and aim_pos[1] != 3:\n",
    "        #aim_numのy座標-1になるまでchoice_num(16)を縦移動\n",
    "        while aim_pos[0]-1 != choice_pos[0]:\n",
    "            if aim_pos[0] <= choice_pos[0]:\n",
    "                np.put(split_list, [((choice_pos[0]+1) * (choice_pos[1]+1))-1], split_list[choice_pos[0]-1][choice_pos[1]])\n",
    "                np.put(split_list, [((choice_pos[0]) * (choice_pos[1]+1))-1], choice_num)\n",
    "            else:\n",
    "                np.put(split_list, [((choice_pos[0]-1) * (choice_pos[1]-1))-1], split_list[choice_pos[0]+1][choice_pos[1]])\n",
    "                np.put(split_list, [((choice_pos[0]) * (choice_pos[1]-1))-1], choice_num)\n",
    "            choice_pos = tuple(nd[0] for nd in np.where(split_list == choice_num))\n",
    "            exchange += 1\n",
    "\n",
    "        #aim_numのx座標と同じになるまでcoice_num(16)を横移動\n",
    "        while aim_pos[1] != choice_pos[1]:\n",
    "            if aim_pos[1] < choice_pos[1]:\n",
    "                np.put(split_list, [((choice_pos[0]+1) * (choice_pos[1]+1))-1], split_list[choice_pos[0]][choice_pos[1]-1])\n",
    "                np.put(split_list, [((choice_pos[0]+1) * (choice_pos[1]+1))-2], choice_num)\n",
    "            else:\n",
    "                np.put(split_list, [((choice_pos[0]+1) * (choice_pos[1]+1))-1], split_list[choice_pos[0]][choice_pos[1]+1])\n",
    "                np.put(split_list, [((choice_pos[0]+1) * (choice_pos[1]+1))], choice_num)\n",
    "            choice_pos = tuple(nd[0] for nd in np.where(split_list == choice_num))\n",
    "            exchange += 1\n",
    "\n",
    "        # print(\"なんでだよ\")\n",
    "\n",
    "    # print(\"aim_pos = \" + str(aim_pos))\n",
    "    # print(\"choice_pos = \" + str(choice_pos))\n",
    "    # print(pos)\n",
    "    print(split_list)\n",
    "    \n",
    "    return exchange\n",
    "\n",
    "exchange = move(3, 16, [0, 3], exchange) \n",
    "print(exchange)"
   ]
  },
  {
   "cell_type": "code",
   "execution_count": null,
   "metadata": {},
   "outputs": [],
   "source": []
  }
 ]
}