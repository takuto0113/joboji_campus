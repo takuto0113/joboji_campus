{
 "metadata": {
  "language_info": {
   "codemirror_mode": {
    "name": "ipython",
    "version": 3
   },
   "file_extension": ".py",
   "mimetype": "text/x-python",
   "name": "python",
   "nbconvert_exporter": "python",
   "pygments_lexer": "ipython3",
   "version": "3.9.1"
  },
  "orig_nbformat": 2,
  "kernelspec": {
   "name": "python391jvsc74a57bd0d35e32298873066b613699bf4d1fe8ab3732bcb4751f98916cb0504c925314c9",
   "display_name": "Python 3.9.1 64-bit ('base': conda)"
  },
  "metadata": {
   "interpreter": {
    "hash": "d35e32298873066b613699bf4d1fe8ab3732bcb4751f98916cb0504c925314c9"
   }
  }
 },
 "nbformat": 4,
 "nbformat_minor": 2,
 "cells": [
  {
   "cell_type": "code",
   "execution_count": 34,
   "metadata": {},
   "outputs": [],
   "source": [
    "import numpy as np"
   ]
  },
  {
   "source": [
    "|||||\n",
    "|:--:|:--:|:--:|:--:|\n",
    "|1|2|3|4|\n",
    "|5|6|7|8|\n",
    "|9|10|11|12|\n",
    "|13|14|15|16|"
   ],
   "cell_type": "markdown",
   "metadata": {}
  },
  {
   "cell_type": "code",
   "execution_count": 35,
   "metadata": {},
   "outputs": [
    {
     "output_type": "stream",
     "name": "stdout",
     "text": [
      "[[14 10  8 13]\n [12  2  3  6]\n [11  4  9  5]\n [ 1 15  7 16]]\n"
     ]
    }
   ],
   "source": [
    "split_list = np.array([[14, 10, 8, 13],\n",
    "                       [12, 2, 3, 6],\n",
    "                       [11, 4, 9, 5],\n",
    "                       [1, 15, 7, 16]])\n",
    "print(split_list)"
   ]
  },
  {
   "cell_type": "code",
   "execution_count": 36,
   "metadata": {},
   "outputs": [
    {
     "output_type": "stream",
     "name": "stdout",
     "text": [
      "[[14 10  8 13]\n [12  2  3  6]\n [11  4  9  5]\n [ 1 15  7 16]]\n\n       ↓\n\nその座標は厳しいよ\n[[14 10  8 13]\n [12  2  3  6]\n [11  4  9  5]\n [ 1 15  7 16]]\n0\n"
     ]
    }
   ],
   "source": [
    "split_list = np.array([[14, 10, 8, 13],\n",
    "                       [12, 2, 3, 6],\n",
    "                       [11, 4, 9, 5],\n",
    "                       [1, 15, 7, 16]])\n",
    "print(split_list)\n",
    "print()\n",
    "print(\"       ↓\")\n",
    "print()\n",
    "\n",
    "exchange = 0\n",
    "\n",
    "# aim_numを狙った座標まで移動する\n",
    "def move(aim_num, choice_num, pos, exchange):\n",
    "    target_pos = tuple(nd[0] for nd in np.where(split_list == aim_num))\n",
    "    choice_pos = tuple(nd[0] for nd in np.where(split_list == choice_num))\n",
    "    \n",
    "    if target_pos[0] != 0 and target_pos[0] != 3 and target_pos[1] != 0 and target_pos[1] != 3:\n",
    "        #aim_numのy座標-1になるまでchoice_num(16)を縦移動\n",
    "        while target_pos[0]-1 != choice_pos[0]:\n",
    "            if target_pos[0] <= choice_pos[0]:\n",
    "                np.put(split_list, [((choice_pos[0]+1) * (choice_pos[1]+1))-1], split_list[choice_pos[0]-1][choice_pos[1]])\n",
    "                np.put(split_list, [((choice_pos[0]) * (choice_pos[1]+1))-1], choice_num)\n",
    "            else:\n",
    "                np.put(split_list, [((choice_pos[0]-1) * (choice_pos[1]-1))-1], split_list[choice_pos[0]+1][choice_pos[1]])\n",
    "                np.put(split_list, [((choice_pos[0]) * (choice_pos[1]-1))-1], choice_num)\n",
    "            choice_pos = tuple(nd[0] for nd in np.where(split_list == choice_num))\n",
    "            exchange += 1\n",
    "\n",
    "        #aim_numのx座標と同じになるまでcoice_num(16)を横移動\n",
    "        while target_pos[1] != choice_pos[1]:\n",
    "            if target_pos[1] < choice_pos[1]:\n",
    "                np.put(split_list, [((choice_pos[0]+1) * (choice_pos[1]+1))-1], split_list[choice_pos[0]][choice_pos[1]-1])\n",
    "                np.put(split_list, [((choice_pos[0]+1) * (choice_pos[1]+1))-2], choice_num)\n",
    "            else:\n",
    "                np.put(split_list, [((choice_pos[0]+1) * (choice_pos[1]+1))-1], split_list[choice_pos[0]][choice_pos[1]+1])\n",
    "                np.put(split_list, [((choice_pos[0]+1) * (choice_pos[1]+1))], choice_num)\n",
    "            choice_pos = tuple(nd[0] for nd in np.where(split_list == choice_num))\n",
    "            exchange += 1\n",
    "\n",
    "    else:\n",
    "        print(\"その座標は厳しいよ\")\n",
    "\n",
    "\n",
    "    # print(\"target_pos = \" + str(target_pos))\n",
    "    # print(\"choice_pos = \" + str(choice_pos))\n",
    "    print(split_list)\n",
    "    \n",
    "    return exchange\n",
    "\n",
    "exchange = move(1, 16, [0, 0], exchange) \n",
    "print(exchange)"
   ]
  },
  {
   "cell_type": "code",
   "execution_count": 93,
   "metadata": {
    "tags": []
   },
   "outputs": [
    {
     "output_type": "stream",
     "name": "stdout",
     "text": [
      "[[14 12  8  1]\n [13  2  3  6]\n [11  4  9  5]\n [10 15  7 16]]\n\n       ↓\n\n15\n[[ 1 16  2  6]\n [14 13 12  8]\n [11  4  3  5]\n [10 15  9  7]]\n"
     ]
    }
   ],
   "source": [
    "split_list = np.array([[14, 12, 8, 1],\n",
    "                       [13, 2, 3, 6],\n",
    "                       [11, 4, 9, 5],\n",
    "                       [10, 15, 7, 16]])\n",
    "print(split_list)\n",
    "print()\n",
    "print(\"       ↓\")\n",
    "print()\n",
    "\n",
    "exchange = 0\n",
    "\n",
    "def move(target_num, choice_num, pos, exchange):\n",
    "    target_pos = tuple(nd[0] for nd in np.where(split_list == target_num))\n",
    "    choice_pos = tuple(nd[0] for nd in np.where(split_list == choice_num))\n",
    "\n",
    "\n",
    "    if target_pos != pos:\n",
    "        if target_pos[0] == 0:\n",
    "            #targetがposの右\n",
    "            if pos[1] < target_pos[1]:\n",
    "                #targetの左にchoice_numを移動\n",
    "                #choiceのx座標をtargetのx座標の左まで移動\n",
    "                while target_pos[1]-1 != choice_pos[1]:\n",
    "                    if target_pos[1] <= choice_pos[1]:\n",
    "                        np.put(split_list, [4 * choice_pos[0] + choice_pos[1]], split_list[choice_pos[0]][choice_pos[1]-1])\n",
    "                        np.put(split_list, [4 * choice_pos[0] + choice_pos[1] - 1], choice_num)\n",
    "                    else:\n",
    "                        np.put(split_list, [4 * (choice_pos[0]) + choice_pos[1]], split_list[choice_pos[0]][choice_pos[1]+1])\n",
    "                        np.put(split_list, [4 * (choice_pos[0]) + choice_pos[1] + 1], choice_num)\n",
    "                    target_pos = tuple(nd[0] for nd in np.where(split_list == target_num))\n",
    "                    choice_pos = tuple(nd[0] for nd in np.where(split_list == choice_num))\n",
    "                    exchange += 1\n",
    "                #choiceのy座標をtargetと同じになるまで移動\n",
    "                while target_pos[0] != choice_pos[0]:\n",
    "                    np.put(split_list, [4 * choice_pos[0] + choice_pos[1]], split_list[choice_pos[0]-1][choice_pos[1]])\n",
    "                    np.put(split_list, [4 * choice_pos[0] + choice_pos[1]-4], choice_num)\n",
    "                    target_pos = tuple(nd[0] for nd in np.where(split_list == target_num))\n",
    "                    choice_pos = tuple(nd[0] for nd in np.where(split_list == choice_num))\n",
    "                    exchange += 1\n",
    "\n",
    "                #targetをposのx座標まで移動\n",
    "                while target_pos[1] != pos[1]:\n",
    "                    np.put(split_list, [4 * (choice_pos[0]) + choice_pos[1]], split_list[choice_pos[0]][choice_pos[1]+1])\n",
    "                    np.put(split_list, [4 * (choice_pos[0]) + choice_pos[1] + 1], choice_num)\n",
    "                    target_pos = tuple(nd[0] for nd in np.where(split_list == target_num))\n",
    "                    choice_pos = tuple(nd[0] for nd in np.where(split_list == choice_num))\n",
    "                    exchange += 1\n",
    "                    if target_pos[1] != pos[1]:\n",
    "                        #targetの右下に移動\n",
    "                        np.put(split_list, [4 * (choice_pos[0]) + choice_pos[1]], split_list[choice_pos[0]+1][choice_pos[1]])\n",
    "                        np.put(split_list, [4 * (choice_pos[0]) + choice_pos[1] + 4], choice_num)\n",
    "                        target_pos = tuple(nd[0] for nd in np.where(split_list == target_num))\n",
    "                        choice_pos = tuple(nd[0] for nd in np.where(split_list == choice_num))\n",
    "                        exchange += 1\n",
    "                        #targetの下に移動\n",
    "                        np.put(split_list, [4 * (choice_pos[0]) + choice_pos[1]], split_list[choice_pos[0]][choice_pos[1]-1])\n",
    "                        np.put(split_list, [4 * (choice_pos[0]) + choice_pos[1] - 1], choice_num)\n",
    "                        target_pos = tuple(nd[0] for nd in np.where(split_list == target_num))\n",
    "                        choice_pos = tuple(nd[0] for nd in np.where(split_list == choice_num))\n",
    "                        exchange += 1\n",
    "                        #targetの左下に移動\n",
    "                        np.put(split_list, [4 * (choice_pos[0]) + choice_pos[1]], split_list[choice_pos[0]][choice_pos[1]-1])\n",
    "                        np.put(split_list, [4 * (choice_pos[0]) + choice_pos[1] -1], choice_num)\n",
    "                        target_pos = tuple(nd[0] for nd in np.where(split_list == target_num))\n",
    "                        choice_pos = tuple(nd[0] for nd in np.where(split_list == choice_num))\n",
    "                        exchange += 1\n",
    "                        #targetの左に移動\n",
    "                        np.put(split_list, [4 * (choice_pos[0]) + choice_pos[1]], split_list[choice_pos[0]-1][choice_pos[1]])\n",
    "                        np.put(split_list, [4 * (choice_pos[0]) + choice_pos[1] - 4], choice_num)\n",
    "                        target_pos = tuple(nd[0] for nd in np.where(split_list == target_num))\n",
    "                        choice_pos = tuple(nd[0] for nd in np.where(split_list == choice_num))\n",
    "                        exchange += 1\n",
    "\n",
    "    return exchange\n",
    "\n",
    "\n",
    "exchange = move(1, 16, (0,0), exchange)\n",
    "print(exchange)\n",
    "print(split_list)"
   ]
  },
  {
   "cell_type": "code",
   "execution_count": null,
   "metadata": {},
   "outputs": [],
   "source": []
  }
 ]
}