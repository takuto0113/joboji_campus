{
 "metadata": {
  "language_info": {
   "codemirror_mode": {
    "name": "ipython",
    "version": 3
   },
   "file_extension": ".py",
   "mimetype": "text/x-python",
   "name": "python",
   "nbconvert_exporter": "python",
   "pygments_lexer": "ipython3",
   "version": "3.9.1"
  },
  "orig_nbformat": 4,
  "kernelspec": {
   "name": "python3",
   "display_name": "Python 3.9.1 64-bit ('base': conda)"
  },
  "interpreter": {
   "hash": "d35e32298873066b613699bf4d1fe8ab3732bcb4751f98916cb0504c925314c9"
  }
 },
 "nbformat": 4,
 "nbformat_minor": 2,
 "cells": [
  {
   "cell_type": "code",
   "execution_count": 1,
   "metadata": {},
   "outputs": [],
   "source": [
    "import numpy as np\n",
    "import random\n",
    "import copy\n",
    "import sys"
   ]
  },
  {
   "source": [
    "# ↓問題生成"
   ],
   "cell_type": "markdown",
   "metadata": {}
  },
  {
   "cell_type": "code",
   "execution_count": 2,
   "metadata": {},
   "outputs": [],
   "source": [
    "def puzzle_generation(puzzle_board, issue):\n",
    "    #ファイル読み込み\n",
    "    f = open(issue, 'r', encoding='UTF-8')\n",
    "    data = f.readlines()\n",
    "    f.close()\n",
    "\n",
    "\n",
    "    #問題フォーマットの1行目の読み取り ----------------------------------------------------------------------------------------\n",
    "    s0 = data[0].rstrip('\\n').rstrip(',')\n",
    "    l0 = [int(x.strip()) for x in s0.split(',')]\n",
    "\n",
    "    colmun = l0[0]              #列\n",
    "    row = l0[1]                 #行\n",
    "    selection_cost = l0[2]      #選択コスト\n",
    "\n",
    "\n",
    "    \n",
    "    #スライドパズルの盤面の読み取り ------------------------------------------------------------------------------------------\n",
    "    for i in range(1, row+1):\n",
    "        row_data = data[i].rstrip('\\n').rstrip(',')\n",
    "        line_data = [int(x.strip()) for x in row_data.split(',')]\n",
    "        row_array = np.array(line_data)\n",
    "        if i == 1:\n",
    "            puzzle_board = row_array\n",
    "        else:\n",
    "            puzzle_board = np.vstack((puzzle_board, row_array))\n",
    "\n",
    "    # colmun = 5\n",
    "    # row = 6\n",
    "    #ランダム生成 ---------------------------------------------------------------------------------------------------------\n",
    "    # random_num = random.sample(range(1, row*colmun+1), row*colmun)\n",
    "    # random_list = np.array(random_num)\n",
    "    # puzzle_board = random_list.reshape(row, colmun)\n",
    "\n",
    "\n",
    "    return puzzle_board, colmun, row, selection_cost"
   ]
  },
  {
   "source": [
    "# ↓移動関数"
   ],
   "cell_type": "markdown",
   "metadata": {}
  },
  {
   "cell_type": "code",
   "execution_count": 3,
   "metadata": {},
   "outputs": [],
   "source": [
    "#選択画像を上に移動\n",
    "def up(target_value, selection_value, exchange_operation):\n",
    "    target_coord = tuple(nd[0] for nd in np.where(puzzle_board == target_value))\n",
    "    selection_coord = tuple(nd[0] for nd in np.where(puzzle_board == selection_value))\n",
    "\n",
    "    if selection_coord[0] != 0:\n",
    "        np.put(puzzle_board, [row * selection_coord[0] + selection_coord[1]], puzzle_board[selection_coord[0]-1][selection_coord[1]])\n",
    "        np.put(puzzle_board, [row * selection_coord[0] + selection_coord[1]-4], selection_value)\n",
    "\n",
    "        target_coord = tuple(nd[0] for nd in np.where(puzzle_board == target_value))\n",
    "        selection_coord = tuple(nd[0] for nd in np.where(puzzle_board == selection_value))\n",
    "\n",
    "        exchange_operation += 'U'\n",
    "\n",
    "        return target_coord, selection_coord, exchange_operation\n",
    "\n",
    "    \n",
    "    else:\n",
    "        return sys.exit(\"これ以上、上に行けないよ!\")"
   ]
  },
  {
   "cell_type": "code",
   "execution_count": 4,
   "metadata": {},
   "outputs": [],
   "source": [
    "#選択画像を下に移動\n",
    "def down(target_value, selection_value, exchange_operation):\n",
    "    target_coord = tuple(nd[0] for nd in np.where(puzzle_board == target_value))\n",
    "    selection_coord = tuple(nd[0] for nd in np.where(puzzle_board == selection_value))\n",
    "\n",
    "    if selection_coord[0] != 3:\n",
    "        np.put(puzzle_board, [row * selection_coord[0] + selection_coord[1]], puzzle_board[selection_coord[0]+1][selection_coord[1]])\n",
    "        np.put(puzzle_board, [row * selection_coord[0] + selection_coord[1]+4], selection_value)\n",
    "\n",
    "        target_coord = tuple(nd[0] for nd in np.where(puzzle_board == target_value))\n",
    "        selection_coord = tuple(nd[0] for nd in np.where(puzzle_board == selection_value))\n",
    "\n",
    "        exchange_operation += 'D'\n",
    "\n",
    "        return target_coord, selection_coord, exchange_operation\n",
    "\n",
    "    else:\n",
    "        return sys.exit(\"これ以上、下に行けないよ!\")"
   ]
  },
  {
   "cell_type": "code",
   "execution_count": 5,
   "metadata": {},
   "outputs": [],
   "source": [
    "#選択画像を左に移動\n",
    "def left(target_value, selection_value, exchange_operation):\n",
    "    target_coord = tuple(nd[0] for nd in np.where(puzzle_board == target_value))\n",
    "    selection_coord = tuple(nd[0] for nd in np.where(puzzle_board == selection_value))\n",
    "\n",
    "    if selection_coord[1] != 0:\n",
    "        np.put(puzzle_board, [row * selection_coord[0] + selection_coord[1]], puzzle_board[selection_coord[0]][selection_coord[1]-1])\n",
    "        np.put(puzzle_board, [row * selection_coord[0] + selection_coord[1]-1], selection_value)\n",
    "\n",
    "        target_coord = tuple(nd[0] for nd in np.where(puzzle_board == target_value))\n",
    "        selection_coord = tuple(nd[0] for nd in np.where(puzzle_board == selection_value))\n",
    "\n",
    "        exchange_operation += 'L'\n",
    "\n",
    "        return target_coord, selection_coord, exchange_operation\n",
    "\n",
    "    else:\n",
    "        return sys.exit(\"これ以上、左に行けないよ!\")"
   ]
  },
  {
   "cell_type": "code",
   "execution_count": 6,
   "metadata": {},
   "outputs": [],
   "source": [
    "#選択画像を右に移動\n",
    "def right(target_value, selection_value, exchange_operation):\n",
    "    target_coord = tuple(nd[0] for nd in np.where(puzzle_board == target_value))\n",
    "    selection_coord = tuple(nd[0] for nd in np.where(puzzle_board == selection_value))\n",
    "\n",
    "    if selection_coord[1] != 3:\n",
    "        np.put(puzzle_board, [row * selection_coord[0] + selection_coord[1]], puzzle_board[selection_coord[0]][selection_coord[1]+1])\n",
    "        np.put(puzzle_board, [row * selection_coord[0] + selection_coord[1]+1], selection_value)\n",
    "\n",
    "        target_coord = tuple(nd[0] for nd in np.where(puzzle_board == target_value))\n",
    "        selection_coord = tuple(nd[0] for nd in np.where(puzzle_board == selection_value))\n",
    "\n",
    "        exchange_operation += 'R'\n",
    "\n",
    "        return target_coord, selection_coord, exchange_operation\n",
    "\n",
    "    else:\n",
    "        return sys.exit(\"これ以上、右に行けないよ!\")"
   ]
  },
  {
   "source": [
    "# ↓回答書き込み"
   ],
   "cell_type": "markdown",
   "metadata": {}
  },
  {
   "cell_type": "code",
   "execution_count": 7,
   "metadata": {},
   "outputs": [],
   "source": [
    "def answer_writing(selection_position, exchange_times, exchange_operation):\n",
    "    f = open('answer.txt', 'w')\n",
    "\n",
    "    f.write(str(selection_position[0]) + str(selection_position[1]) + '\\n')\n",
    "    f.write(str(exchange_times) + '\\n')\n",
    "    f.write(exchange_operation + '\\n')    \n",
    "\n",
    "    f.close()"
   ]
  },
  {
   "source": [
    "# ↓それぞれの処理"
   ],
   "cell_type": "markdown",
   "metadata": {}
  },
  {
   "cell_type": "code",
   "execution_count": 8,
   "metadata": {},
   "outputs": [],
   "source": [
    "# 2行を除いた盤面の並び替え(たくと)\n",
    "def puzzle_board_sort_top(puzzle_board, selection_times, exchange_operation):\n",
    "    #選択値の初期位置を記憶させておく\n",
    "    selection_value = colmun * row\n",
    "    selection_coord = tuple(nd[0] for nd in np.where(puzzle_board == selection_value))\n",
    "    selection_position = selection_coord                #選択画像初期位置\n",
    "\n",
    "    for i in range(row - 2):\n",
    "        for j in range(colmun):\n",
    "            target_value = i * colmun + j + 1           #動かしたい値\n",
    "            selection_value = colmun * row              #選択値\n",
    "\n",
    "            target_coord = tuple(nd[0] for nd in np.where(puzzle_board == target_value))\n",
    "            # target_x = target_coord[1]                  #動かしたい値のx座標\n",
    "            # target_y = target_coord[0]                  #動かしたい値のy座標\n",
    "            selection_coord = tuple(nd[0] for nd in np.where(puzzle_board == selection_value))\n",
    "            # selection_x = selection_coord[1]            #選択値のx座標\n",
    "            # selection_y = selection_coord[0]            #選択値のy座標\n",
    "            \n",
    "            up(target_value, selection_value, exchange_operation)\n",
    "            # down(target_value, selection_value, exchange_operation)\n",
    "            # left(target_value, selection_value, exchange_operation)\n",
    "            # right(target_value, selection_value, exchange_operation)\n",
    "\n",
    "            print(puzzle_board)\n",
    "            print()\n",
    "\n",
    "    # return exchange_operation\n"
   ]
  },
  {
   "cell_type": "code",
   "execution_count": 9,
   "metadata": {},
   "outputs": [],
   "source": [
    "# 下2行の右4マスを除いた盤面の並び替え(たいち)\n",
    "def puzzle_board_sort_bottom_left(puzzle_board, selection_times, exchange_operation):\n",
    "    print(\"がんば!\")"
   ]
  },
  {
   "cell_type": "code",
   "execution_count": 10,
   "metadata": {},
   "outputs": [],
   "source": [
    "# 右下4ますの並び替え(しのべー)\n",
    "def puzzle_board_sort_bottom_right(puzzle_board, selection_times, exchange_operation):\n",
    "    #選択画像変更次には answer_writing を実行して欲しい\n",
    "\n",
    "    print(\"がんば!\")\n"
   ]
  },
  {
   "cell_type": "code",
   "execution_count": 11,
   "metadata": {},
   "outputs": [],
   "source": [
    "# 上3つをまとめたもの\n",
    "def puzzle_board_sort(puzzle_board):\n",
    "    selection_times = 0                     #選択回数\n",
    "    exchange_operation = \"\"                 #交換操作\n",
    "\n",
    "    f = open('answer.txt', 'w')\n",
    "    f.write('2\\n')    \n",
    "    f.close()\n",
    "\n",
    "    #たくと担当\n",
    "    puzzle_board_sort_top(puzzle_board, selection_times, exchange_operation)\n",
    "    #たいち担当\n",
    "    # puzzle_board_sort_bottom_left(puzzle_board, selection_times, exchange_operation)\n",
    "    # #しのべー担当\n",
    "    # puzzle_board_sort_bottom_right(puzzle_board, selection_times, exchange_operation)"
   ]
  },
  {
   "source": [
    "# メイン関数"
   ],
   "cell_type": "markdown",
   "metadata": {}
  },
  {
   "cell_type": "code",
   "execution_count": 12,
   "metadata": {},
   "outputs": [
    {
     "output_type": "stream",
     "name": "stdout",
     "text": [
      "colmun(列→)：4\nrow(行↓)：4\nselection_cost(選択コスト)：2\n\n[[11  9  5  8]\n [12  4  7 10]\n [15  3  1 13]\n [14  2 16  6]]\n\n[[11  9  5  8]\n [12  4  7 10]\n [15  3 16 13]\n [14  2  1  6]]\n\n[[11  9  5  8]\n [12  4 16 10]\n [15  3  7 13]\n [14  2  1  6]]\n\n[[11  9 16  8]\n [12  4  5 10]\n [15  3  7 13]\n [14  2  1  6]]\n\n"
     ]
    },
    {
     "output_type": "error",
     "ename": "SystemExit",
     "evalue": "これ以上、上に行けないよ!",
     "traceback": [
      "An exception has occurred, use %tb to see the full traceback.\n",
      "\u001b[0;31mSystemExit\u001b[0m\u001b[0;31m:\u001b[0m これ以上、上に行けないよ!\n"
     ]
    }
   ],
   "source": [
    "puzzle_board =  np.array([])    #現在の盤面を表す配列\n",
    "\n",
    "#問題盤面生成\n",
    "puzzle_board, colmun, row, selection_cost = puzzle_generation(puzzle_board, 'issue/4x4.txt')\n",
    "\n",
    "print('colmun(列→)：' + str(colmun))\n",
    "print('row(行↓)：' + str(row))\n",
    "print('selection_cost(選択コスト)：' + str(selection_cost) + '\\n')\n",
    "print(puzzle_board)\n",
    "print()\n",
    "\n",
    "\n",
    "#並び替え\n",
    "puzzle_board_sort(puzzle_board)\n",
    "print(puzzle_board)"
   ]
  },
  {
   "cell_type": "code",
   "execution_count": null,
   "metadata": {},
   "outputs": [],
   "source": []
  }
 ]
}