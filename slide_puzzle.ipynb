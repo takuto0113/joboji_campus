{
 "metadata": {
  "language_info": {
   "codemirror_mode": {
    "name": "ipython",
    "version": 3
   },
   "file_extension": ".py",
   "mimetype": "text/x-python",
   "name": "python",
   "nbconvert_exporter": "python",
   "pygments_lexer": "ipython3",
   "version": "3.9.1"
  },
  "orig_nbformat": 4,
  "kernelspec": {
   "name": "python3",
   "display_name": "Python 3.9.1 64-bit ('base': conda)"
  },
  "interpreter": {
   "hash": "d35e32298873066b613699bf4d1fe8ab3732bcb4751f98916cb0504c925314c9"
  }
 },
 "nbformat": 4,
 "nbformat_minor": 2,
 "cells": [
  {
   "cell_type": "code",
   "execution_count": 2,
   "metadata": {},
   "outputs": [],
   "source": [
    "import numpy as np\n",
    "import random\n",
    "import copy"
   ]
  },
  {
   "source": [
    "# ↓問題生成"
   ],
   "cell_type": "markdown",
   "metadata": {}
  },
  {
   "cell_type": "code",
   "execution_count": 48,
   "metadata": {},
   "outputs": [],
   "source": [
    "def puzzle_generation(puzzle_board, issue):\n",
    "    #ファイル読み込み\n",
    "    f = open(issue, 'r', encoding='UTF-8')\n",
    "    data = f.readlines()\n",
    "    f.close()\n",
    "\n",
    "    s0 = data[0].rstrip('\\n').rstrip(',')\n",
    "    l0 = [int(x.strip()) for x in s0.split(',')]\n",
    "\n",
    "    colmun = l0[0]\n",
    "    row = l0[1]\n",
    "    selection_cost = l0[2]\n",
    "\n",
    "    for i in range(1, row+1):\n",
    "        row_data = data[i].rstrip('\\n').rstrip(',')\n",
    "        line_data = [int(x.strip()) for x in row_data.split(',')]\n",
    "        row_array = np.array(line_data)\n",
    "        if i == 1:\n",
    "            puzzle_board = row_array\n",
    "        else:\n",
    "            puzzle_board = np.vstack((puzzle_board, row_array))\n",
    "\n",
    "    #ランダム生成\n",
    "    # random_num = random.sample(range(1, colmun*row+1), colmun*row)\n",
    "    # random_list = np.array(random_num)\n",
    "    # puzzle_board = random_list.reshape(colmun, row)\n",
    "\n",
    "    return puzzle_board, colmun, row, selection_cost"
   ]
  },
  {
   "source": [
    "# ↓回答書き込み"
   ],
   "cell_type": "markdown",
   "metadata": {}
  },
  {
   "cell_type": "code",
   "execution_count": null,
   "metadata": {},
   "outputs": [],
   "source": [
    "def answer_writing():"
   ]
  },
  {
   "source": [
    "# ↓移動関数"
   ],
   "cell_type": "markdown",
   "metadata": {}
  },
  {
   "cell_type": "code",
   "execution_count": null,
   "metadata": {},
   "outputs": [],
   "source": [
    "#選択画像を上に移動\n",
    "def up():"
   ]
  },
  {
   "cell_type": "code",
   "execution_count": null,
   "metadata": {},
   "outputs": [],
   "source": [
    "#選択画像を下に移動\n",
    "def down():"
   ]
  },
  {
   "cell_type": "code",
   "execution_count": null,
   "metadata": {},
   "outputs": [],
   "source": [
    "#選択画像を左に移動\n",
    "def left():"
   ]
  },
  {
   "cell_type": "code",
   "execution_count": null,
   "metadata": {},
   "outputs": [],
   "source": [
    "#選択画像を右に移動\n",
    "def right():"
   ]
  },
  {
   "source": [
    "# ↓それぞれの処理"
   ],
   "cell_type": "markdown",
   "metadata": {}
  },
  {
   "cell_type": "code",
   "execution_count": null,
   "metadata": {},
   "outputs": [],
   "source": [
    "# 2行を除いた盤面の並び替え(たくと)\n",
    "def puzzle_board_top(puzzle_board_top):"
   ]
  },
  {
   "cell_type": "code",
   "execution_count": null,
   "metadata": {},
   "outputs": [],
   "source": [
    "# 下2行の右4マスを除いた盤面の並び替え(たいち)\n",
    "def puzzle_board_bottom_left(puzzle_board_bottom_left):"
   ]
  },
  {
   "cell_type": "code",
   "execution_count": null,
   "metadata": {},
   "outputs": [],
   "source": [
    "# 右下4ますの並び替え(しのべー)\n",
    "def puzzle_board_bottom_right(puzzle_board_bottom_right):"
   ]
  },
  {
   "source": [
    "# メイン関数"
   ],
   "cell_type": "markdown",
   "metadata": {}
  },
  {
   "cell_type": "code",
   "execution_count": 49,
   "metadata": {},
   "outputs": [
    {
     "output_type": "stream",
     "name": "stdout",
     "text": [
      "colmun(列→)：4\nrow(行↓)：4\nselection_cost(選択コスト)：2\n\n[[11  9  5  8]\n [12  4  7 10]\n [15  3  1 13]\n [14  2 16  6]]\n"
     ]
    }
   ],
   "source": [
    "puzzle_board =  np.array([])\n",
    "puzzle_board, colmun, row, selection_cost = puzzle_generation(puzzle_board, 'issue/4x4.txt')\n",
    "\n",
    "print('colmun(列→)：' + str(colmun))\n",
    "print('row(行↓)：' + str(row))\n",
    "print('selection_cost(選択コスト)：' + str(selection_cost) + '\\n')\n",
    "print(puzzle_board)"
   ]
  },
  {
   "cell_type": "code",
   "execution_count": null,
   "metadata": {},
   "outputs": [],
   "source": []
  }
 ]
}