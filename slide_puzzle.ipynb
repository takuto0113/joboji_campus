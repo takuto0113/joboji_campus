{
 "metadata": {
  "language_info": {
   "codemirror_mode": {
    "name": "ipython",
    "version": 3
   },
   "file_extension": ".py",
   "mimetype": "text/x-python",
   "name": "python",
   "nbconvert_exporter": "python",
   "pygments_lexer": "ipython3",
   "version": "3.9.1"
  },
  "orig_nbformat": 4,
  "kernelspec": {
   "name": "python3",
   "display_name": "Python 3.9.1 64-bit ('base': conda)"
  },
  "interpreter": {
   "hash": "d35e32298873066b613699bf4d1fe8ab3732bcb4751f98916cb0504c925314c9"
  }
 },
 "nbformat": 4,
 "nbformat_minor": 2,
 "cells": [
  {
   "cell_type": "code",
   "execution_count": 1,
   "metadata": {},
   "outputs": [],
   "source": [
    "import numpy as np\n",
    "import random\n",
    "import copy"
   ]
  },
  {
   "cell_type": "code",
   "execution_count": 2,
   "metadata": {},
   "outputs": [],
   "source": [
    "#問題生成\n",
    "def puzzle_generation(split_list, issue):\n",
    "    #ファイル読み込み\n",
    "    f = open(issue, 'r', encoding='UTF-8')\n",
    "    data = f.readlines()\n",
    "    f.close()\n",
    "\n",
    "    s0 = data[0].rstrip('\\n').rstrip(',')\n",
    "    l0 = [int(x.strip()) for x in s0.split(',')]\n",
    "\n",
    "    colmun = l0[0]\n",
    "    row = l0[1]\n",
    "    selection_cost = l0[2]\n",
    "\n",
    "    for i in range(1, row+1):\n",
    "        row_data = data[i].rstrip('\\n').rstrip(',')\n",
    "        line_data = [int(x.strip()) for x in row_data.split(',')]\n",
    "        row_array = np.array(line_data)\n",
    "        if i == 1:\n",
    "            split_list = row_array\n",
    "        else:\n",
    "            split_list = np.vstack((split_list, row_array))\n",
    "\n",
    "    print('colmun(列→)：' + str(colmun))\n",
    "    print('row(行↓)：' + str(row))\n",
    "    print('selection_cost(選択コスト)：' + str(selection_cost) + '\\n')\n",
    "\n",
    "\n",
    "    #ランダム生成\n",
    "    # random_num = random.sample(range(1, colmun*row+1), colmun*row)\n",
    "    # random_list = np.array(random_num)\n",
    "    # split_list = random_list.reshape(colmun, row)\n",
    "\n",
    "    return split_list"
   ]
  },
  {
   "cell_type": "code",
   "execution_count": 3,
   "metadata": {},
   "outputs": [
    {
     "output_type": "stream",
     "name": "stdout",
     "text": [
      "colmun(列→)：4\nrow(行↓)：4\nselection_cost(選択コスト)：2\n\n[[11  9  5  8]\n [12  4  7 10]\n [15  3  1 13]\n [14  2 16  6]]\n"
     ]
    }
   ],
   "source": [
    "split_list =  np.array([])\n",
    "split_list = puzzle_generation(split_list, 'issue/4x4.txt')\n",
    "print(split_list)"
   ]
  }
 ]
}