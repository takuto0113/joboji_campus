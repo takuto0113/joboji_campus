{
 "metadata": {
  "language_info": {
   "codemirror_mode": {
    "name": "ipython",
    "version": 3
   },
   "file_extension": ".py",
   "mimetype": "text/x-python",
   "name": "python",
   "nbconvert_exporter": "python",
   "pygments_lexer": "ipython3",
   "version": "3.9.1"
  },
  "orig_nbformat": 4,
  "kernelspec": {
   "name": "python3",
   "display_name": "Python 3.9.1 64-bit ('base': conda)"
  },
  "interpreter": {
   "hash": "d35e32298873066b613699bf4d1fe8ab3732bcb4751f98916cb0504c925314c9"
  }
 },
 "nbformat": 4,
 "nbformat_minor": 2,
 "cells": [
  {
   "cell_type": "code",
   "execution_count": 2,
   "metadata": {},
   "outputs": [],
   "source": [
    "import numpy as np\n",
    "import random\n",
    "import copy"
   ]
  },
  {
   "source": [
    "# ↓問題生成"
   ],
   "cell_type": "markdown",
   "metadata": {}
  },
  {
   "cell_type": "code",
   "execution_count": 35,
   "metadata": {},
   "outputs": [],
   "source": [
    "def puzzle_generation(puzzle_board, issue):\n",
    "    #ファイル読み込み\n",
    "    f = open(issue, 'r', encoding='UTF-8')\n",
    "    data = f.readlines()\n",
    "    f.close()\n",
    "\n",
    "\n",
    "    #問題フォーマットの1行目の読み取り ----------------------------------------------------------------------------------------\n",
    "    s0 = data[0].rstrip('\\n').rstrip(',')\n",
    "    l0 = [int(x.strip()) for x in s0.split(',')]\n",
    "\n",
    "    colmun = l0[0]              #列\n",
    "    row = l0[1]                 #行\n",
    "    selection_cost = l0[2]      #選択コスト\n",
    "\n",
    "\n",
    "    \n",
    "    #スライドパズルの盤面の読み取り ------------------------------------------------------------------------------------------\n",
    "    for i in range(1, row+1):\n",
    "        row_data = data[i].rstrip('\\n').rstrip(',')\n",
    "        line_data = [int(x.strip()) for x in row_data.split(',')]\n",
    "        row_array = np.array(line_data)\n",
    "        if i == 1:\n",
    "            puzzle_board = row_array\n",
    "        else:\n",
    "            puzzle_board = np.vstack((puzzle_board, row_array))\n",
    "\n",
    "    # colmun = 5\n",
    "    # row = 6\n",
    "    #ランダム生成 ---------------------------------------------------------------------------------------------------------\n",
    "    random_num = random.sample(range(1, row*colmun+1), row*colmun)\n",
    "    random_list = np.array(random_num)\n",
    "    puzzle_board = random_list.reshape(row, colmun)\n",
    "\n",
    "\n",
    "    return puzzle_board, colmun, row, selection_cost"
   ]
  },
  {
   "source": [
    "# ↓移動関数"
   ],
   "cell_type": "markdown",
   "metadata": {}
  },
  {
   "cell_type": "code",
   "execution_count": 75,
   "metadata": {},
   "outputs": [
    {
     "output_type": "error",
     "ename": "IndentationError",
     "evalue": "expected an indented block (<ipython-input-75-a93b1bc16aef>, line 2)",
     "traceback": [
      "\u001b[0;36m  File \u001b[0;32m\"<ipython-input-75-a93b1bc16aef>\"\u001b[0;36m, line \u001b[0;32m2\u001b[0m\n\u001b[0;31m    def up():\u001b[0m\n\u001b[0m             ^\u001b[0m\n\u001b[0;31mIndentationError\u001b[0m\u001b[0;31m:\u001b[0m expected an indented block\n"
     ]
    }
   ],
   "source": [
    "#選択画像を上に移動\n",
    "def up():"
   ]
  },
  {
   "cell_type": "code",
   "execution_count": 76,
   "metadata": {},
   "outputs": [
    {
     "output_type": "error",
     "ename": "IndentationError",
     "evalue": "expected an indented block (<ipython-input-76-873a4cac58dc>, line 2)",
     "traceback": [
      "\u001b[0;36m  File \u001b[0;32m\"<ipython-input-76-873a4cac58dc>\"\u001b[0;36m, line \u001b[0;32m2\u001b[0m\n\u001b[0;31m    def down():\u001b[0m\n\u001b[0m               ^\u001b[0m\n\u001b[0;31mIndentationError\u001b[0m\u001b[0;31m:\u001b[0m expected an indented block\n"
     ]
    }
   ],
   "source": [
    "#選択画像を下に移動\n",
    "def down():"
   ]
  },
  {
   "cell_type": "code",
   "execution_count": 77,
   "metadata": {},
   "outputs": [
    {
     "output_type": "error",
     "ename": "IndentationError",
     "evalue": "expected an indented block (<ipython-input-77-d63f6356a2c4>, line 2)",
     "traceback": [
      "\u001b[0;36m  File \u001b[0;32m\"<ipython-input-77-d63f6356a2c4>\"\u001b[0;36m, line \u001b[0;32m2\u001b[0m\n\u001b[0;31m    def left():\u001b[0m\n\u001b[0m               ^\u001b[0m\n\u001b[0;31mIndentationError\u001b[0m\u001b[0;31m:\u001b[0m expected an indented block\n"
     ]
    }
   ],
   "source": [
    "#選択画像を左に移動\n",
    "def left():"
   ]
  },
  {
   "cell_type": "code",
   "execution_count": 78,
   "metadata": {},
   "outputs": [
    {
     "output_type": "error",
     "ename": "IndentationError",
     "evalue": "expected an indented block (<ipython-input-78-ed3cd70b0384>, line 2)",
     "traceback": [
      "\u001b[0;36m  File \u001b[0;32m\"<ipython-input-78-ed3cd70b0384>\"\u001b[0;36m, line \u001b[0;32m2\u001b[0m\n\u001b[0;31m    def right():\u001b[0m\n\u001b[0m                ^\u001b[0m\n\u001b[0;31mIndentationError\u001b[0m\u001b[0;31m:\u001b[0m expected an indented block\n"
     ]
    }
   ],
   "source": [
    "#選択画像を右に移動\n",
    "def right():"
   ]
  },
  {
   "source": [
    "# ↓回答書き込み"
   ],
   "cell_type": "markdown",
   "metadata": {}
  },
  {
   "cell_type": "code",
   "execution_count": 79,
   "metadata": {},
   "outputs": [],
   "source": [
    "def answer_writing(selection_position, exchange_times, exchange_operation):\n",
    "    f = open('answer.txt', 'w')\n",
    "\n",
    "    f.write(str(selection_position[0]) + str(selection_position[1]) + '\\n')\n",
    "    f.write(str(exchange_times) + '\\n')\n",
    "    f.write(exchange_operation + '\\n')    \n",
    "\n",
    "    f.close()"
   ]
  },
  {
   "source": [
    "# ↓それぞれの処理"
   ],
   "cell_type": "markdown",
   "metadata": {}
  },
  {
   "cell_type": "code",
   "execution_count": 36,
   "metadata": {},
   "outputs": [],
   "source": [
    "# 2行を除いた盤面の並び替え(たくと)\n",
    "def puzzle_board_sort_top(puzzle_board, selection_times, exchange_times, exchange_operation):\n",
    "    # print('colmun(列→)：' + str(colmun))\n",
    "    # print('row(行↓)：' + str(row))\n",
    "    # print('selection_cost(選択コスト)：' + str(selection_cost) + '\\n')\n",
    "\n",
    "    # selection_value = colmun * row              #選択値\n",
    "    # selection_coord = tuple(nd[0] for nd in np.where(puzzle_board == selection_value))\n",
    "    # selection_x = selection_coord[1]       #選択値のx座標\n",
    "    # selection_y = selection_coord[0]       #選択値のy座標\n",
    "\n",
    "    for i in range(row - 2):\n",
    "        for j in range(colmun):\n",
    "            target_value = i * colmun + j + 1           #動かしたい値\n",
    "            selection_value = colmun * row              #選択値\n",
    "\n",
    "            target_coord = tuple(nd[0] for nd in np.where(puzzle_board == target_value))\n",
    "            target_x = target_coord[1]                  #動かしたい値のx座標\n",
    "            target_y = target_coord[0]                  #動かしたい値のy座標\n",
    "            selection_coord = tuple(nd[0] for nd in np.where(puzzle_board == selection_value))\n",
    "            selection_x = selection_coord[1]            #選択値のx座標\n",
    "            selection_y = selection_coord[0]            #選択値のy座標\n",
    "\n",
    "            print(\"---------------------------------------------------------------------------------------\")\n",
    "            print(\"target_value : \" + str(target_value))\n",
    "            # print(\"selection_value : \" + str(selection_value))\n",
    "            print(\"target_coord : \" + str(target_x + 1) + \", \" + str(target_y + 1))\n",
    "            # print(\"selection_coord : \" + str(selection_x + 1) + \", \" + str(selection_y + 1))\n",
    "            print()\n",
    "\n",
    "\n",
    "\n",
    "    # print(selection_value)\n",
    "    # print(\"x = \" + str(selection_x + 1))\n",
    "    # print(\"y = \" + str(selection_y + 1))\n"
   ]
  },
  {
   "cell_type": "code",
   "execution_count": 81,
   "metadata": {},
   "outputs": [],
   "source": [
    "# 下2行の右4マスを除いた盤面の並び替え(たいち)\n",
    "def puzzle_board_sort_bottom_left(puzzle_board, selection_times, exchange_times, exchange_operation):\n",
    "    print(\"がんば!\")"
   ]
  },
  {
   "cell_type": "code",
   "execution_count": 82,
   "metadata": {},
   "outputs": [],
   "source": [
    "# 右下4ますの並び替え(しのべー)\n",
    "def puzzle_board_sort_bottom_right(puzzle_board, selection_times, exchange_times, exchange_operation):\n",
    "    #選択画像変更次には answer_writing を実行して欲しい\n",
    "\n",
    "    print(\"がんば!\")\n"
   ]
  },
  {
   "cell_type": "code",
   "execution_count": 37,
   "metadata": {},
   "outputs": [],
   "source": [
    "# 上3つをまとめたもの\n",
    "def puzzle_board_sort(puzzle_board):\n",
    "    selection_times = 0                     #選択回数\n",
    "    exchange_times = 0                      #交換回数\n",
    "    exchange_operation = \"\"                 #交換操作\n",
    "\n",
    "\n",
    "    #たくと担当\n",
    "    puzzle_board_sort_top(puzzle_board, selection_times, exchange_times, exchange_operation)\n",
    "    # #たいち担当\n",
    "    # puzzle_board_sort_bottom_left(puzzle_board, selection_times, exchange_times, exchange_operation)\n",
    "    # #しのべー担当\n",
    "    # puzzle_board_sort_bottom_right(puzzle_board, selection_times, exchange_times, exchange_operation)"
   ]
  },
  {
   "source": [
    "# メイン関数"
   ],
   "cell_type": "markdown",
   "metadata": {}
  },
  {
   "cell_type": "code",
   "execution_count": 38,
   "metadata": {},
   "outputs": [
    {
     "output_type": "stream",
     "name": "stdout",
     "text": [
      "colmun(列→)：5\nrow(行↓)：6\nselection_cost(選択コスト)：2\n\n[[ 1  9 23 20 17]\n [30  6 29 15  3]\n [11 14 26 22  5]\n [28 19  8 10 24]\n [ 2 16  7 21 12]\n [25 18  4 27 13]]\n---------------------------------------------------------------------------------------\ntarget_value : 1\ntarget_coord : 1, 1\n\n---------------------------------------------------------------------------------------\ntarget_value : 2\ntarget_coord : 1, 5\n\n---------------------------------------------------------------------------------------\ntarget_value : 3\ntarget_coord : 5, 2\n\n---------------------------------------------------------------------------------------\ntarget_value : 4\ntarget_coord : 3, 6\n\n---------------------------------------------------------------------------------------\ntarget_value : 5\ntarget_coord : 5, 3\n\n---------------------------------------------------------------------------------------\ntarget_value : 6\ntarget_coord : 2, 2\n\n---------------------------------------------------------------------------------------\ntarget_value : 7\ntarget_coord : 3, 5\n\n---------------------------------------------------------------------------------------\ntarget_value : 8\ntarget_coord : 3, 4\n\n---------------------------------------------------------------------------------------\ntarget_value : 9\ntarget_coord : 2, 1\n\n---------------------------------------------------------------------------------------\ntarget_value : 10\ntarget_coord : 4, 4\n\n---------------------------------------------------------------------------------------\ntarget_value : 11\ntarget_coord : 1, 3\n\n---------------------------------------------------------------------------------------\ntarget_value : 12\ntarget_coord : 5, 5\n\n---------------------------------------------------------------------------------------\ntarget_value : 13\ntarget_coord : 5, 6\n\n---------------------------------------------------------------------------------------\ntarget_value : 14\ntarget_coord : 2, 3\n\n---------------------------------------------------------------------------------------\ntarget_value : 15\ntarget_coord : 4, 2\n\n---------------------------------------------------------------------------------------\ntarget_value : 16\ntarget_coord : 2, 5\n\n---------------------------------------------------------------------------------------\ntarget_value : 17\ntarget_coord : 5, 1\n\n---------------------------------------------------------------------------------------\ntarget_value : 18\ntarget_coord : 2, 6\n\n---------------------------------------------------------------------------------------\ntarget_value : 19\ntarget_coord : 2, 4\n\n---------------------------------------------------------------------------------------\ntarget_value : 20\ntarget_coord : 4, 1\n\n"
     ]
    }
   ],
   "source": [
    "puzzle_board =  np.array([])    #現在の盤面を表す配列\n",
    "\n",
    "#問題盤面生成\n",
    "puzzle_board, colmun, row, selection_cost = puzzle_generation(puzzle_board, 'issue/4x4.txt')\n",
    "\n",
    "print('colmun(列→)：' + str(colmun))\n",
    "print('row(行↓)：' + str(row))\n",
    "print('selection_cost(選択コスト)：' + str(selection_cost) + '\\n')\n",
    "print(puzzle_board)\n",
    "\n",
    "\n",
    "#並び替え\n",
    "puzzle_board_sort(puzzle_board)"
   ]
  },
  {
   "cell_type": "code",
   "execution_count": null,
   "metadata": {},
   "outputs": [],
   "source": []
  }
 ]
}