{
 "metadata": {
  "language_info": {
   "codemirror_mode": {
    "name": "ipython",
    "version": 3
   },
   "file_extension": ".py",
   "mimetype": "text/x-python",
   "name": "python",
   "nbconvert_exporter": "python",
   "pygments_lexer": "ipython3",
   "version": "3.9.1"
  },
  "orig_nbformat": 2,
  "kernelspec": {
   "name": "python391jvsc74a57bd0d35e32298873066b613699bf4d1fe8ab3732bcb4751f98916cb0504c925314c9",
   "display_name": "Python 3.9.1 64-bit ('base': conda)"
  },
  "metadata": {
   "interpreter": {
    "hash": "d35e32298873066b613699bf4d1fe8ab3732bcb4751f98916cb0504c925314c9"
   }
  }
 },
 "nbformat": 4,
 "nbformat_minor": 2,
 "cells": [
  {
   "cell_type": "code",
   "execution_count": 1,
   "metadata": {},
   "outputs": [],
   "source": [
    "import numpy as np"
   ]
  },
  {
   "cell_type": "code",
   "execution_count": 2,
   "metadata": {},
   "outputs": [],
   "source": [
    "#上下左右に移動する関数\n",
    "def up(target_num, choice_num, exchange):\n",
    "    target_pos = tuple(nd[0] for nd in np.where(split_list == target_num))\n",
    "    choice_pos = tuple(nd[0] for nd in np.where(split_list == choice_num))\n",
    "    np.put(split_list, [4 * choice_pos[0] + choice_pos[1]], split_list[choice_pos[0]-1][choice_pos[1]])\n",
    "    np.put(split_list, [4 * choice_pos[0] + choice_pos[1] - 4], choice_num)\n",
    "    target_pos = tuple(nd[0] for nd in np.where(split_list == target_num))\n",
    "    choice_pos = tuple(nd[0] for nd in np.where(split_list == choice_num))\n",
    "    exchange += 1\n",
    "    return target_pos, choice_pos, exchange\n",
    "\n",
    "def down(target_num, choice_num, exchange):\n",
    "    target_pos = tuple(nd[0] for nd in np.where(split_list == target_num))\n",
    "    choice_pos = tuple(nd[0] for nd in np.where(split_list == choice_num))\n",
    "    np.put(split_list, [4 * (choice_pos[0]) + choice_pos[1]], split_list[choice_pos[0]+1][choice_pos[1]])\n",
    "    np.put(split_list, [4 * (choice_pos[0]) + choice_pos[1] + 4], choice_num)\n",
    "    target_pos = tuple(nd[0] for nd in np.where(split_list == target_num))\n",
    "    choice_pos = tuple(nd[0] for nd in np.where(split_list == choice_num))\n",
    "    exchange += 1\n",
    "    return target_pos, choice_pos, exchange\n",
    "\n",
    "def right(target_num, choice_num, exchange):\n",
    "    target_pos = tuple(nd[0] for nd in np.where(split_list == target_num))\n",
    "    choice_pos = tuple(nd[0] for nd in np.where(split_list == choice_num))\n",
    "    np.put(split_list, [4 * (choice_pos[0]) + choice_pos[1]], split_list[choice_pos[0]][choice_pos[1]+1])\n",
    "    np.put(split_list, [4 * (choice_pos[0]) + choice_pos[1] + 1], choice_num)\n",
    "    target_pos = tuple(nd[0] for nd in np.where(split_list == target_num))\n",
    "    choice_pos = tuple(nd[0] for nd in np.where(split_list == choice_num))\n",
    "    exchange += 1\n",
    "    return target_pos, choice_pos, exchange\n",
    "\n",
    "def left(target_num, choice_num, exchange):\n",
    "    target_pos = tuple(nd[0] for nd in np.where(split_list == target_num))\n",
    "    choice_pos = tuple(nd[0] for nd in np.where(split_list == choice_num))\n",
    "    np.put(split_list, [4 * (choice_pos[0]) + choice_pos[1]], split_list[choice_pos[0]][choice_pos[1]-1])\n",
    "    np.put(split_list, [4 * (choice_pos[0]) + choice_pos[1] -1], choice_num)\n",
    "    target_pos = tuple(nd[0] for nd in np.where(split_list == target_num))\n",
    "    choice_pos = tuple(nd[0] for nd in np.where(split_list == choice_num))\n",
    "    exchange += 1\n",
    "    return target_pos, choice_pos, exchange"
   ]
  },
  {
   "cell_type": "code",
   "execution_count": 5,
   "metadata": {},
   "outputs": [
    {
     "output_type": "stream",
     "name": "stdout",
     "text": [
      "[[14 12  8  1]\n [13  2  3  6]\n [11  4  9  5]\n [10 15  7 16]]\n\n       ↓\n\n15\n[[ 1 16  2  6]\n [14 13 12  8]\n [11  4  3  5]\n [10 15  9  7]]\n"
     ]
    }
   ],
   "source": [
    "split_list = np.array([[14, 12, 8, 1],\n",
    "                       [13, 2, 3, 6],\n",
    "                       [11, 4, 9, 5],\n",
    "                       [10, 15, 7, 16]])\n",
    "print(split_list)\n",
    "print()\n",
    "print(\"       ↓\")\n",
    "print()\n",
    "\n",
    "exchange = 0\n",
    "\n",
    "def move(target_num, choice_num, pos, exchange):\n",
    "    target_pos = tuple(nd[0] for nd in np.where(split_list == target_num))\n",
    "    choice_pos = tuple(nd[0] for nd in np.where(split_list == choice_num))\n",
    "\n",
    "\n",
    "    if target_pos != pos:\n",
    "        if target_pos[0] == 0:\n",
    "            #targetがposの右\n",
    "            if pos[1] <= target_pos[1]:\n",
    "                #targetの左にchoice_numを移動\n",
    "                #choiceのx座標をtargetのx座標の左まで移動\n",
    "                while target_pos[1]-1 != choice_pos[1]:\n",
    "                    if target_pos[1] <= choice_pos[1]: target_pos, choice_pos, exchange = left(target_num, choice_num, exchange)\n",
    "                    else: target_pos, choice_pos, exchange = right(target_num, choice_num, exchange)\n",
    "\n",
    "                #choiceのy座標をtargetと同じになるまで移動\n",
    "                while target_pos[0] != choice_pos[0]:\n",
    "                    target_pos, choice_pos, exchange = up(target_num, choice_num, exchange)\n",
    "\n",
    "                #targetをposのx座標まで移動\n",
    "                while target_pos[1] != pos[1]:\n",
    "                    target_pos, choice_pos, exchange = right(target_num, choice_num, exchange)\n",
    "                    if target_pos[1] != pos[1]:\n",
    "                        #targetの右下に移動\n",
    "                        target_pos, choice_pos, exchange = down(target_num, choice_num, exchange)\n",
    "                        #targetの下に移動\n",
    "                        target_pos, choice_pos, exchange = left(target_num, choice_num, exchange)\n",
    "                        #targetの左下に移動\n",
    "                        target_pos, choice_pos, exchange = left(target_num, choice_num, exchange)\n",
    "                        #targetの左に移動\n",
    "                        target_pos, choice_pos, exchange = up(target_num, choice_num, exchange)\n",
    "\n",
    "    return exchange\n",
    "\n",
    "\n",
    "exchange = move(1, 16, (0,0), exchange)\n",
    "print(exchange)\n",
    "print(split_list)"
   ]
  },
  {
   "cell_type": "code",
   "execution_count": 7,
   "metadata": {},
   "outputs": [
    {
     "output_type": "stream",
     "name": "stdout",
     "text": [
      "[[14 12  8  1]\n [13  2  3  6]\n [11  4  9  5]\n [10 15  7 16]]\n\n       ↓\n\n4\n"
     ]
    }
   ],
   "source": [
    "#これをメインの処理にする\n",
    "\n",
    "split_list = np.array([[14, 12, 8, 1],\n",
    "                       [13, 2, 3, 6],\n",
    "                       [11, 4, 9, 5],\n",
    "                       [10, 15, 7, 16]])\n",
    "print(split_list)\n",
    "print()\n",
    "print(\"       ↓\")\n",
    "print()\n",
    "\n",
    "exchange = 0\n",
    "\n",
    "def move(split_list):\n",
    "    columns = split_list.shape[0]\n",
    "    row = split_list.shape[1]\n",
    "\n",
    "    #最後2行を除いて並び替え（たくと）\n",
    "    for i in range(columns - 2):\n",
    "        for j in range(row):\n",
    "\n",
    "\n",
    "\n",
    "    #さいごの2行（たいち）\n",
    "    \n",
    "\n",
    "\n"
   ]
  }
 ]
}